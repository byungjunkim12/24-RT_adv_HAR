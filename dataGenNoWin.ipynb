{
 "cells": [
  {
   "cell_type": "code",
   "execution_count": 2,
   "metadata": {},
   "outputs": [
    {
     "name": "stdout",
     "output_type": "stream",
     "text": [
      "Datatype: survey\n"
     ]
    }
   ],
   "source": [
    "import json\n",
    "import csv\n",
    "import numpy as np\n",
    "\n",
    "from collections import defaultdict\n",
    "from glob import glob\n",
    "\n",
    "jsonFileName = './inputJson/genWin.json'\n",
    "\n",
    "f = open(jsonFileName)\n",
    "inputJson = json.load(f)\n",
    "dataPathBase = inputJson['dataPathBase']\n",
    "dataType = inputJson['dataType']\n",
    "cudaID = 5\n",
    "f.close()\n",
    "\n",
    "print(\"Datatype:\", dataType)\n",
    "if dataType == 'survey':\n",
    "    fs = 1000 # 1 kHz\n",
    "    dSampFactor = 2\n",
    "    nSubC = 30\n",
    "    nRX = 3\n",
    "    \n",
    "    activities = ['bed', 'fall', 'run', 'sitdown', 'standup', 'walk']\n",
    "\n",
    "padLen = 9\n",
    "if dataType == \"survey\":\n",
    "    dataPath = dataPathBase + \"HAR_survey/\"\n",
    "dataDict = {activity:[] for activity in activities}\n",
    "for activity in activities:\n",
    "    dataDict[activity] = defaultdict(list)\n",
    "windDataPath = dataPath + \"noWin_pad\" + str(padLen) + \"/\"\n",
    "\n",
    "padLen = 9\n",
    "print(dataPath)\n",
    "noWindDataPath = dataPath + \"noWin_pad\" + str(padLen) + \"/\"\n",
    "for activity in activities:\n",
    "    if dataType == \"survey\":\n",
    "        fileNameList = glob(dataPath + \"/input_\" + activity + \"*.csv\")\n",
    "        outputXXFileName = noWindDataPath + \"xx_\" + activity\n",
    "\n",
    "        print(activity, len(fileNameList))\n",
    "\n",
    "        # xx = np.empty([0, (winLen//dSampFactor + padSize), nSubC*nRX], float)\n",
    "    dataList = []\n",
    "\n",
    "    for fileIndex, fileName in enumerate(fileNameList):\n",
    "        data = np.array([[float(elm) for elm in v] for v in csv.reader(open(fileName, 'r'))])\n",
    "        annotFileName = fileName.replace('input', 'annotation')\n",
    "        annot = np.array([[str(elm) for elm in v] for v in csv.reader(open(annotFileName, 'r'))])\n",
    "        annotDownSamp = annot[::dSampFactor]\n",
    "\n",
    "        indActs = np.where(annot[:, 0] == activity)[0]\n",
    "        indPad = np.arange(indActs[0]-padLen*dSampFactor, indActs[0], dSampFactor)\n",
    "        indActswithPad = np.concatenate((indPad, indActs))\n",
    "        print(indActs.shape, indActswithPad.shape)\n",
    "        # print(indPad, indActs[:5], indActswithPad[:15])\n",
    "        \n",
    "        dataActs = data[indActswithPad, 1:1+nSubC*nRX]\n",
    "        dataList.append(dataActs)\n",
    "\n",
    "    np.save(outputXXFileName, np.array(dataList, dtype=object), allow_pickle=True)\n",
    "    # with open(outputXXFileName, \"w+\") as f:\n",
    "    #     pickle.dump(dataList, f)"
   ]
  },
  {
   "cell_type": "code",
   "execution_count": null,
   "metadata": {},
   "outputs": [],
   "source": []
  }
 ],
 "metadata": {
  "kernelspec": {
   "display_name": "wifiHAR_vel",
   "language": "python",
   "name": "python3"
  },
  "language_info": {
   "codemirror_mode": {
    "name": "ipython",
    "version": 3
   },
   "file_extension": ".py",
   "mimetype": "text/x-python",
   "name": "python",
   "nbconvert_exporter": "python",
   "pygments_lexer": "ipython3",
   "version": "3.10.13"
  }
 },
 "nbformat": 4,
 "nbformat_minor": 2
}
