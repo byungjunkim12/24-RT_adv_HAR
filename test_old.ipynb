{
 "cells": [
  {
   "cell_type": "code",
   "execution_count": 1,
   "metadata": {},
   "outputs": [],
   "source": [
    "import numpy as np\n",
    "import scipy.io as sio\n",
    "import pandas as pd\n",
    "\n",
    "import torch\n",
    "import torch.nn as nn\n",
    "import torch.nn.functional as F\n",
    "import torch.optim as optim\n",
    "\n",
    "import csv\n",
    "import os\n",
    "import json\n",
    "import math\n",
    "\n",
    "from glob import glob\n",
    "from collections import defaultdict\n",
    "from scipy import signal\n",
    "import matplotlib.pyplot as plt"
   ]
  },
  {
   "cell_type": "code",
   "execution_count": 2,
   "metadata": {},
   "outputs": [
    {
     "name": "stdout",
     "output_type": "stream",
     "text": [
      "survey\n"
     ]
    }
   ],
   "source": [
    "jsonFileName = './inputJson/test.json'\n",
    "\n",
    "f = open(jsonFileName)\n",
    "inputJson = json.load(f)\n",
    "dataPathBase = inputJson['dataPathBase']\n",
    "dataType = inputJson['dataType']\n",
    "f.close()\n",
    "\n",
    "print(dataType)\n",
    "if dataType == 'survey':\n",
    "    fs = 1000 # 1 kHz\n",
    "    nSubC = 30\n",
    "    nRX = 3\n",
    "    \n",
    "    winLen = 1000\n",
    "    thres = 60\n",
    "    slideLen = 400\n",
    "\n",
    "    # activities = ['bed']\n",
    "    activities = ['bed', 'fall', 'pickup', 'run', 'sitdown', 'standup', 'walk']\n"
   ]
  },
  {
   "cell_type": "code",
   "execution_count": 3,
   "metadata": {},
   "outputs": [
    {
     "name": "stdout",
     "output_type": "stream",
     "text": [
      "557\n",
      "0\n",
      "bed 79\n",
      "fall 79\n",
      "pickup 80\n",
      "run 80\n",
      "sitdown 80\n",
      "standup 79\n",
      "walk 80\n"
     ]
    }
   ],
   "source": [
    "if dataType == \"survey\":\n",
    "    dataPath = dataPathBase + \"HAR_survey/\"\n",
    "    dataDict = {activity:[] for activity in activities}\n",
    "    for activity in activities:\n",
    "        dataDict[activity] = defaultdict(list)\n",
    "\n",
    "elif dataType == \"SHARP\":\n",
    "    dataPath = dataPathBase + \"HAR_SHARP/\"\n",
    "\n",
    "for subFolder in os.walk(dataPath):\n",
    "    if dataType == \"survey\":\n",
    "        fileNameList = glob(subFolder[0] + \"/input*.csv\")\n",
    "    print(len(fileNameList))\n",
    "    \n",
    "    for fileIndex, fileDirName in enumerate(fileNameList):\n",
    "        fileName = fileDirName.split('/')[-1]\n",
    "        fileType = fileName.split('_')[0]\n",
    "        fileActv = fileName.split('_')[1]\n",
    "        if fileActv not in activities:\n",
    "            continue\n",
    "\n",
    "        annotFileName = \"annotation\" + fileName[5:]\n",
    "        annotFileDirName = subFolder[0] + annotFileName\n",
    "\n",
    "        with open(fileDirName, mode='r') as file:\n",
    "            csiData = list(csv.reader(file))\n",
    "            csiDataNP = np.array(csiData).astype(np.float32)\n",
    "            \n",
    "        with open(annotFileDirName, mode='r') as annotFile:\n",
    "            annotData = list(csv.reader(annotFile))\n",
    "            annotDataNP = np.array(annotData)\n",
    "\n",
    "        dataDict[fileActv]['CSI'].append(csiDataNP)\n",
    "        dataDict[fileActv]['annot'].append(annotDataNP)\n",
    "\n",
    "for activity in activities:\n",
    "    print(activity, len(dataDict[activity]['annot']))"
   ]
  },
  {
   "cell_type": "code",
   "execution_count": 4,
   "metadata": {},
   "outputs": [
    {
     "name": "stdout",
     "output_type": "stream",
     "text": [
      "Checking annotation integrity of bed data\n",
      "Checking annotation integrity of fall data\n",
      "Checking annotation integrity of pickup data\n",
      "Checking annotation integrity of run data\n",
      "Checking annotation integrity of sitdown data\n",
      "Checking annotation integrity of standup data\n",
      "Checking annotation integrity of walk data\n"
     ]
    }
   ],
   "source": [
    "for activity in activities:\n",
    "    print('Checking annotation integrity of', activity, 'data')\n",
    "    for dataInd in range(len(dataDict[activity]['annot'])):\n",
    "        actDetected = 0\n",
    "        for i in range(len(dataDict[activity]['annot'][dataInd])):\n",
    "            # print(dataDict['run']['annot'][dataInd][i])\n",
    "            if dataDict[activity]['annot'][dataInd][i] == activity:\n",
    "                actDetected = 1\n",
    "            elif actDetected == 1 and dataDict[activity]['annot'][dataInd][i] == 'NoActivity':\n",
    "                actDetected = 2\n",
    "            elif actDetected == 2 and dataDict[activity]['annot'][dataInd][i] == activity:\n",
    "                print(activity, dataInd) # two activities in one file\n",
    "                break"
   ]
  },
  {
   "cell_type": "markdown",
   "metadata": {},
   "source": [
    "## Compute average length of activities"
   ]
  },
  {
   "cell_type": "code",
   "execution_count": 5,
   "metadata": {},
   "outputs": [
    {
     "name": "stdout",
     "output_type": "stream",
     "text": [
      "0 2541 1 3861 2 3801 3 2821 4 4301 5 2981 6 3021 7 3191 8 2711 9 2981 10 4171 11 3491 12 3321 13 2541 14 4031 15 4341 16 3861 17 4811 18 3251 19 2811 \n",
      "20 2711 21 2771 22 3421 23 3081 24 3451 25 3011 26 4641 27 3691 28 3631 29 3661 30 3661 31 3521 32 3901 33 3861 34 3521 35 4371 36 3191 37 3461 38 3251 39 3761 \n",
      "40 3941 41 2851 42 3971 43 4131 44 3561 45 3791 46 2811 47 4271 48 3291 49 2951 50 1911 51 3491 52 4301 53 3051 54 4471 55 4131 56 3531 57 4271 58 3761 59 3971 \n",
      "60 3461 61 4341 62 3251 63 4201 64 3221 65 3831 66 2951 67 3451 68 3021 69 3091 70 3051 71 3531 72 3971 73 3321 74 2911 75 4241 76 2881 77 4361 78 3831 \n",
      "bed 3528.974683544304\n",
      "\n",
      "0 1891 1 3191 2 2131 3 2441 4 2441 5 2981 6 2681 7 3181 8 1761 9 3081 10 2511 11 2551 12 2721 13 2511 14 3221 15 2851 16 2471 17 2921 18 2301 19 2511 \n",
      "20 3191 21 2471 22 2781 23 2401 24 2581 25 2551 26 2411 27 1731 28 1861 29 2041 30 2911 31 2481 32 2371 33 2101 34 2551 35 2471 36 1631 37 2131 38 1561 39 2471 \n",
      "40 2441 41 2541 42 2201 43 2751 44 2951 45 2001 46 3081 47 2171 48 2071 49 1771 50 2641 51 2341 52 2681 53 2551 54 2671 55 2341 56 2641 57 2851 58 1931 59 3151 \n",
      "60 2211 61 1961 62 2171 63 3291 64 2681 65 2541 66 2611 67 2231 68 2101 69 2101 70 2171 71 2611 72 2641 73 2001 74 2381 75 2171 76 1961 77 2751 78 2301 \n",
      "fall 2452.1392405063293\n",
      "\n",
      "0 2001 1 2711 2 2061 3 2031 4 2941 5 2571 6 2991 7 3051 8 3121 9 2541 10 3391 11 3291 12 2241 13 2101 14 2711 15 2441 16 2301 17 2511 18 3221 19 1831 \n",
      "20 3011 21 2311 22 3661 23 2031 24 4001 25 2651 26 3221 27 2141 28 2881 29 2881 30 2911 31 2341 32 2371 33 2951 34 2371 35 3221 36 2311 37 2721 38 2611 39 3631 \n",
      "40 2781 41 2441 42 2101 43 2041 44 1771 45 2641 46 2471 47 2071 48 2611 49 2811 50 2851 51 2981 52 3221 53 3011 54 2141 55 2241 56 2681 57 2241 58 2821 59 2341 \n",
      "60 2311 61 2681 62 2271 63 2541 64 3421 65 3261 66 2171 67 3491 68 3451 69 2371 70 2611 71 3191 72 2141 73 2581 74 2681 75 2641 76 3321 77 2611 78 2311 79 2171 \n",
      "\n",
      "pickup 2659.875\n",
      "\n",
      "0 6851 1 4981 2 3291 3 5051 4 3691 5 6611 6 9931 7 8931 8 5421 9 7081 10 3871 11 5631 12 3451 13 8271 14 5091 15 6371 16 3861 17 11301 18 3501 19 6711 \n",
      "20 5421 21 6481 22 5701 23 5081 24 6041 25 3691 26 3561 27 8721 28 3491 29 5941 30 5021 31 6811 32 3551 33 9361 34 6921 35 3691 36 6241 37 6441 38 3771 39 3521 \n",
      "40 4041 41 6541 42 3771 43 5461 44 9731 45 9431 46 6511 47 8031 48 5591 49 4041 50 7051 51 5831 52 9421 53 9081 54 5961 55 8781 56 3571 57 5491 58 8341 59 9221 \n",
      "60 7731 61 6981 62 6651 63 8781 64 9291 65 5151 66 6141 67 4101 68 6841 69 9131 70 8811 71 6201 72 6501 73 4241 74 6611 75 6651 76 6611 77 3421 78 5491 79 7661 \n",
      "\n",
      "run 6228.25\n",
      "\n",
      "0 2471 1 1691 2 1871 3 1241 4 2101 5 2641 6 3431 7 2341 8 2001 9 3251 10 1801 11 2481 12 2671 13 3151 14 1831 15 2411 16 2471 17 2071 18 2751 19 2371 \n",
      "20 2511 21 2441 22 1591 23 1971 24 1931 25 2641 26 1661 27 1661 28 2071 29 2711 30 2101 31 1761 32 1861 33 1661 34 2611 35 1931 36 2411 37 2341 38 2241 39 1831 \n",
      "40 2071 41 2581 42 1831 43 2531 44 2271 45 2071 46 2131 47 1491 48 1931 49 3421 50 1731 51 2811 52 2071 53 1931 54 2071 55 3081 56 2311 57 1731 58 2611 59 1961 \n",
      "60 1901 61 1801 62 2201 63 1971 64 2891 65 2381 66 3081 67 3121 68 2441 69 2511 70 2101 71 2271 72 1521 73 1971 74 1561 75 2841 76 1561 77 2071 78 2511 79 2541 \n",
      "\n",
      "sitdown 2236.0\n",
      "\n",
      "0 1391 1 1801 2 1931 3 1591 4 1521 5 1631 6 1661 7 1631 8 1491 9 1601 10 1521 11 1631 12 1461 13 1461 14 1691 15 1831 16 1491 17 2101 18 1491 19 2001 \n",
      "20 2031 21 1621 22 1871 23 1161 24 1521 25 1621 26 2101 27 1901 28 1701 29 2071 30 1151 31 1831 32 1661 33 1761 34 2341 35 1221 36 1501 37 1661 38 1901 39 1831 \n",
      "40 1931 41 1971 42 1361 43 1431 44 1931 45 1971 46 1501 47 1391 48 2301 49 1251 50 1491 51 1631 52 2101 53 1421 54 1461 55 1831 56 1901 57 1331 58 1701 59 1631 \n",
      "60 2111 61 1861 62 2041 63 1051 64 1731 65 1591 66 1921 67 2071 68 1871 69 1521 70 1421 71 3221 72 1701 73 2201 74 1591 75 1931 76 1351 77 1731 78 1901 \n",
      "standup 1718.3417721518988\n",
      "\n",
      "0 5901 1 7121 2 8341 3 9591 4 9831 5 6711 6 8921 7 6001 8 8411 9 6841 10 9351 11 6031 12 6131 13 8311 14 8671 15 5731 16 9661 17 7081 18 7621 19 5661 \n",
      "20 6201 21 6101 22 7081 23 7431 24 6781 25 7421 26 7321 27 7251 28 7731 29 6651 30 7491 31 7391 32 9151 33 7291 34 7621 35 8371 36 5431 37 9561 38 7761 39 9661 \n",
      "40 6131 41 9011 42 6271 43 7181 44 8671 45 10001 46 7351 47 7971 48 9021 49 5941 50 8571 51 7421 52 7461 53 7631 54 8271 55 6481 56 7351 57 8541 58 7561 59 7761 \n",
      "60 6071 61 6531 62 6141 63 6001 64 8271 65 8811 66 5491 67 7421 68 6681 69 6171 70 7461 71 9121 72 5621 73 6131 74 6891 75 9081 76 9661 77 8041 78 6891 79 9901 \n",
      "\n",
      "walk 7532.625\n",
      "\n"
     ]
    }
   ],
   "source": [
    "# activity = 'bed'\n",
    "for activity in activities:\n",
    "    actDurationSum = 0\n",
    "    for dataInd in range(len(dataDict[activity]['annot'])):\n",
    "        actDetected = 0\n",
    "        minActStart = 0\n",
    "        maxActEnd = 20000\n",
    "        for i in range(len(dataDict[activity]['annot'][dataInd])):\n",
    "            if actDetected == 0 and dataDict[activity]['annot'][dataInd][i] == activity:\n",
    "                actDetected = 1\n",
    "                actStart = i\n",
    "            elif actDetected == 1 and dataDict[activity]['annot'][dataInd][i] == 'NoActivity':\n",
    "                actEnd = i\n",
    "                actDurationSum += (actEnd - actStart)\n",
    "                print(dataInd, (actEnd - actStart), end=' ')\n",
    "                # , math.floor((actEnd+actStart)/2)\n",
    "                break\n",
    "        if dataInd % 20 == 19 and dataInd != len(dataDict[activity]['annot'][dataInd])-1:\n",
    "            print()\n",
    "    print()\n",
    "    actDurationAvg = actDurationSum / len(dataDict[activity]['annot'])\n",
    "    print(activity, actDurationAvg)\n",
    "    print()"
   ]
  },
  {
   "cell_type": "markdown",
   "metadata": {},
   "source": [
    "## Data visualization"
   ]
  },
  {
   "cell_type": "code",
   "execution_count": null,
   "metadata": {},
   "outputs": [],
   "source": [
    "# for dataInd in range(len(dataDict[activity]['CSI'])):\n",
    "activity = 'bed'\n",
    "dataInd = 4\n",
    "\n",
    "actDetected = 0\n",
    "for i in range(len(dataDict[activity]['annot'][dataInd])):\n",
    "    if actDetected == 0 and dataDict[activity]['annot'][dataInd][i] == activity:\n",
    "        actDetected = 1\n",
    "        actStart = i\n",
    "    elif actDetected == 1 and dataDict[activity]['annot'][dataInd][i] == 'NoActivity':\n",
    "        actEnd = i\n",
    "        print(actStart, actEnd, end=' ')\n",
    "        break\n",
    "\n",
    "RXInd = 0\n",
    "dataAmp = dataDict[activity]['CSI'][dataInd][:, 1:91]\n",
    "fig = plt.figure(figsize = (18,10))\n",
    "ax1 = plt.subplot(311)\n",
    "plt.imshow(np.transpose(dataAmp[:, (RXInd*nSubC):(RXInd*nSubC+29)]), interpolation='nearest', aspect='auto')\n",
    "ax1.set_title(\"Antenna1 Amp., entire duration\")\n",
    "plt.colorbar()\n",
    "\n",
    "dataAmpNorm = dataAmp - np.mean(dataAmp, axis=0)\n",
    "ax1 = plt.subplot(312)\n",
    "plt.imshow(np.transpose(dataAmpNorm[:, (RXInd*nSubC):(RXInd*nSubC+29)]), interpolation='nearest', aspect='auto')\n",
    "ax1.set_title(\"Antenna1 Amp., only duration with activity\")\n",
    "plt.colorbar()\n",
    "\n",
    "ax1 = plt.subplot(313)\n",
    "plt.imshow(np.transpose(dataAmpNorm[actStart:actEnd, (RXInd*nSubC):(RXInd*nSubC+29)]), interpolation='nearest', aspect='auto')\n",
    "ax1.set_title(\"Antenna1 Amp., only duration with activity\")\n",
    "plt.colorbar()\n",
    "\n",
    "\n",
    "# for i in range(1, len(dataAmpNorm[0])):\n",
    "#     filtered_data[:,i] = moving_average(dataAmpNorm[:,i], 100)\n"
   ]
  }
 ],
 "metadata": {
  "kernelspec": {
   "display_name": "wifiHAR",
   "language": "python",
   "name": "python3"
  },
  "language_info": {
   "codemirror_mode": {
    "name": "ipython",
    "version": 3
   },
   "file_extension": ".py",
   "mimetype": "text/x-python",
   "name": "python",
   "nbconvert_exporter": "python",
   "pygments_lexer": "ipython3",
   "version": "3.10.13"
  }
 },
 "nbformat": 4,
 "nbformat_minor": 2
}
