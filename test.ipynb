{
 "cells": [
  {
   "cell_type": "code",
   "execution_count": 1,
   "metadata": {},
   "outputs": [],
   "source": [
    "import numpy as np\n",
    "import scipy.io as sio\n",
    "\n",
    "import csv\n",
    "import os\n",
    "import json\n",
    "\n",
    "from glob import glob\n",
    "from collections import defaultdict"
   ]
  },
  {
   "cell_type": "code",
   "execution_count": 2,
   "metadata": {},
   "outputs": [
    {
     "name": "stdout",
     "output_type": "stream",
     "text": [
      "survey\n"
     ]
    }
   ],
   "source": [
    "jsonFileName = './inputJson/test.json'\n",
    "\n",
    "f = open(jsonFileName)\n",
    "inputJson = json.load(f)\n",
    "dataPathBase = inputJson['dataPathBase']\n",
    "dataType = inputJson['dataType']\n",
    "f.close()\n",
    "\n",
    "print(dataType)\n",
    "if dataType == 'survey':\n",
    "    activities = ['bed', 'fall', 'pickup', 'run', 'sitdown', 'standup', 'walk']"
   ]
  },
  {
   "cell_type": "code",
   "execution_count": 8,
   "metadata": {},
   "outputs": [
    {
     "name": "stdout",
     "output_type": "stream",
     "text": [
      "557\n"
     ]
    },
    {
     "ename": "KeyError",
     "evalue": "'input'",
     "output_type": "error",
     "traceback": [
      "\u001b[0;31m---------------------------------------------------------------------------\u001b[0m",
      "\u001b[0;31mKeyError\u001b[0m                                  Traceback (most recent call last)",
      "\u001b[1;32m/home/byk004/24-RT_adv_HAR/test.ipynb Cell 3\u001b[0m line \u001b[0;36m3\n\u001b[1;32m     <a href='vscode-notebook-cell://ssh-remote%2Bgaribaldi.ucsd.edu/home/byk004/24-RT_adv_HAR/test.ipynb#W2sdnNjb2RlLXJlbW90ZQ%3D%3D?line=27'>28</a>\u001b[0m     annotDataNP \u001b[39m=\u001b[39m np\u001b[39m.\u001b[39marray(annotData)\n\u001b[1;32m     <a href='vscode-notebook-cell://ssh-remote%2Bgaribaldi.ucsd.edu/home/byk004/24-RT_adv_HAR/test.ipynb#W2sdnNjb2RlLXJlbW90ZQ%3D%3D?line=29'>30</a>\u001b[0m \u001b[39m# print(type(csiDataNP), type(annotDataNP))\u001b[39;00m\n\u001b[0;32m---> <a href='vscode-notebook-cell://ssh-remote%2Bgaribaldi.ucsd.edu/home/byk004/24-RT_adv_HAR/test.ipynb#W2sdnNjb2RlLXJlbW90ZQ%3D%3D?line=30'>31</a>\u001b[0m \u001b[39mprint\u001b[39m(dataDict[fileType])\n",
      "\u001b[0;31mKeyError\u001b[0m: 'input'"
     ]
    }
   ],
   "source": [
    "if dataType == \"survey\":\n",
    "    dataPath = dataPathBase + \"HAR_survey/\"\n",
    "    dataDict = {activity:[] for activity in activities}\n",
    "    for activity in activities:\n",
    "        dataDict[activity] = defaultdict(list)\n",
    "\n",
    "elif dataType == \"SHARP\":\n",
    "    dataPath = dataPathBase + \"HAR_SHARP/\"\n",
    "\n",
    "for subFolder in os.walk(dataPath):\n",
    "    if dataType == \"survey\":\n",
    "        fileNameList = glob(subFolder[0] + \"/input*.csv\")\n",
    "    print(len(fileNameList))\n",
    "    \n",
    "    for fileIndex, fileDirName in enumerate(fileNameList):\n",
    "        fileName = fileDirName.split('/')[-1]\n",
    "        fileType = fileName.split('_')[0]\n",
    "        fileActv = fileName.split('_')[1]\n",
    "\n",
    "        annotFileName = \"annotation\" + fileName[5:]\n",
    "        annotFileDirName = subFolder[0] + annotFileName\n",
    "\n",
    "        with open(fileDirName, mode='r') as file:\n",
    "            csiData = list(csv.reader(file))\n",
    "            csiDataNP = np.array(csiData)\n",
    "            \n",
    "        with open(annotFileDirName, mode='r') as annotFile:\n",
    "            annotData = list(csv.reader(annotFile))\n",
    "            annotDataNP = np.array(annotData)\n",
    "\n",
    "        dataDict[fileActv]['CSI'].append(np.array([0]))\n",
    "        dataDict[fileActv]['annot'].append(annotDataNP)"
   ]
  },
  {
   "cell_type": "code",
   "execution_count": null,
   "metadata": {},
   "outputs": [],
   "source": []
  }
 ],
 "metadata": {
  "kernelspec": {
   "display_name": "wifiHAR",
   "language": "python",
   "name": "python3"
  },
  "language_info": {
   "codemirror_mode": {
    "name": "ipython",
    "version": 3
   },
   "file_extension": ".py",
   "mimetype": "text/x-python",
   "name": "python",
   "nbconvert_exporter": "python",
   "pygments_lexer": "ipython3",
   "version": "3.10.13"
  },
  "orig_nbformat": 4
 },
 "nbformat": 4,
 "nbformat_minor": 2
}
