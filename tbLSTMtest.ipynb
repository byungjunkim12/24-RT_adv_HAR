{
 "cells": [
  {
   "cell_type": "code",
   "execution_count": 1,
   "metadata": {},
   "outputs": [],
   "source": [
    "import numpy as np\n",
    "import json\n",
    "import random\n",
    "from collections import defaultdict\n",
    "\n",
    "import torch\n",
    "from torch.utils.data import DataLoader\n",
    "from torch import linalg as LA\n",
    "\n",
    "import matplotlib.pyplot as plt\n",
    "from sklearn.metrics import confusion_matrix, ConfusionMatrixDisplay\n",
    "\n",
    "from utilities import *\n",
    "from utilitiesDL import *\n",
    "torch.set_num_threads(1)"
   ]
  },
  {
   "cell_type": "markdown",
   "metadata": {},
   "source": [
    "## Parameter Configuration"
   ]
  },
  {
   "cell_type": "code",
   "execution_count": 3,
   "metadata": {},
   "outputs": [
    {
     "name": "stdout",
     "output_type": "stream",
     "text": [
      "Datatype: TAR\n",
      "dataPath: /project/iarpa/wifiHAR/HAR_TAR/noWin_dSamp_10_pad_9/\n"
     ]
    }
   ],
   "source": [
    "jsonFileName = './inputJson/genData_TAR.json'\n",
    "\n",
    "f = open(jsonFileName)\n",
    "inputJson = json.load(f)\n",
    "dataPathBase = inputJson['dataPathBase']\n",
    "dataType = inputJson['dataType']\n",
    "dSamp = inputJson['dSamp']\n",
    "padLen = inputJson['padLen']\n",
    "dataWinTarget = inputJson['dataWin']\n",
    "surro = inputJson['surro']\n",
    "attackScheme = 'GAIL'\n",
    "dataWin = False\n",
    "f.close()\n",
    "\n",
    "cudaID = 4\n",
    "if cudaID >= 0:\n",
    "    device = torch.device(\"cuda:\"+str(cudaID))\n",
    "    cudaAvbl = True\n",
    "else:\n",
    "    device = torch.device(\"cpu\")\n",
    "    cudaAvbl = False\n",
    "\n",
    "\n",
    "print(\"Datatype:\", dataType)\n",
    "if dataType == 'JAR':\n",
    "    fs = 320\n",
    "    nSubC = 30\n",
    "    nRX = 3\n",
    "    dSampFactor = 1\n",
    "    activities = ['sitstill', 'falldown', 'liedown', 'standstill', 'walk', 'turn', 'stand', 'sit']\n",
    "\n",
    "elif dataType == 'TAR':\n",
    "    fs = 500 # 1 kHz\n",
    "    nSubC = 30\n",
    "    nRX = 3\n",
    "    activities = ['bed', 'fall', 'run', 'sitdown', 'standup', 'walk']\n",
    "    # activities = ['fall', 'pickup', 'run', 'sitdown', 'standup', 'walk']\n",
    "    variableLen = not(dataWinTarget)\n",
    "    # if dataWinTarget:\n",
    "    seqLen = 1000\n",
    "    slideLen = 200\n",
    "\n",
    "if surro:\n",
    "    dSampSurro = dSamp\n",
    "else:\n",
    "    dSampTarget = dSamp\n",
    "\n",
    "dataPath = dataPathBase + \"HAR_\" + dataType + \"/\"\n",
    "if dataType == 'JAR':\n",
    "    dataPath = dataPath + \"dSamp_\" + str(dSamp) + \"/\"\n",
    "elif dataType == 'TAR':\n",
    "    if dataWin:\n",
    "        if attackScheme == \"GAIL\":\n",
    "            dataPath = dataPath + \"win_dSamp_\" + str(dSamp) + \"_\" + attackScheme + \"/\"\n",
    "        else:\n",
    "            dataPath = dataPath + \"win_dSamp_\" + str(dSamp) + \"_pad_\" + str(padLen) + \"/\"\n",
    "    else:\n",
    "        dataPath = dataPath + \"noWin_dSamp_\" + str(dSamp) + \"_pad_\" + str(padLen) + \"/\"\n",
    "print('dataPath:', dataPath)"
   ]
  },
  {
   "cell_type": "markdown",
   "metadata": {},
   "source": [
    "## Load data"
   ]
  },
  {
   "cell_type": "code",
   "execution_count": 4,
   "metadata": {},
   "outputs": [
    {
     "ename": "NameError",
     "evalue": "name 'GAILLoadNP' is not defined",
     "output_type": "error",
     "traceback": [
      "\u001b[0;31m---------------------------------------------------------------------------\u001b[0m",
      "\u001b[0;31mNameError\u001b[0m                                 Traceback (most recent call last)",
      "Cell \u001b[0;32mIn[4], line 33\u001b[0m\n\u001b[1;32m     31\u001b[0m xxLoadNP \u001b[38;5;241m=\u001b[39m np\u001b[38;5;241m.\u001b[39mload(dataPath \u001b[38;5;241m+\u001b[39m \u001b[38;5;124m\"\u001b[39m\u001b[38;5;124mxx_\u001b[39m\u001b[38;5;124m\"\u001b[39m \u001b[38;5;241m+\u001b[39m activity \u001b[38;5;241m+\u001b[39m \u001b[38;5;124m\"\u001b[39m\u001b[38;5;124m.npy\u001b[39m\u001b[38;5;124m\"\u001b[39m, allow_pickle\u001b[38;5;241m=\u001b[39m\u001b[38;5;28;01mTrue\u001b[39;00m)\n\u001b[1;32m     32\u001b[0m \u001b[38;5;28;01mif\u001b[39;00m attackScheme \u001b[38;5;241m==\u001b[39m \u001b[38;5;124m\"\u001b[39m\u001b[38;5;124mGAIL\u001b[39m\u001b[38;5;124m\"\u001b[39m \u001b[38;5;129;01mor\u001b[39;00m attackScheme \u001b[38;5;241m==\u001b[39m \u001b[38;5;124m\"\u001b[39m\u001b[38;5;124mBC\u001b[39m\u001b[38;5;124m\"\u001b[39m:\n\u001b[0;32m---> 33\u001b[0m     \u001b[38;5;28;01mfor\u001b[39;00m dataInd, (data, dataGAIL) \u001b[38;5;129;01min\u001b[39;00m \u001b[38;5;28menumerate\u001b[39m(\u001b[38;5;28mzip\u001b[39m(xxLoadNP, \u001b[43mGAILLoadNP\u001b[49m)):\n\u001b[1;32m     34\u001b[0m         \u001b[38;5;28;01mif\u001b[39;00m data\u001b[38;5;241m.\u001b[39mshape[\u001b[38;5;241m0\u001b[39m] \u001b[38;5;241m>\u001b[39m longestLen:\n\u001b[1;32m     35\u001b[0m             longestLen \u001b[38;5;241m=\u001b[39m data\u001b[38;5;241m.\u001b[39mshape[\u001b[38;5;241m0\u001b[39m]\n",
      "\u001b[0;31mNameError\u001b[0m: name 'GAILLoadNP' is not defined"
     ]
    }
   ],
   "source": [
    "noiseAmpRatio = .5\n",
    "\n",
    "dataDict = {file:[] for file in activities}\n",
    "for activity in activities:\n",
    "    dataDict[activity] = defaultdict(list)\n",
    "\n",
    "if attackScheme == \"GAIL\":\n",
    "    fileName_prefix = \"input_TAR_BiLSTM_H_200_dS_10_\"\n",
    "    fileName_prefix_attack = \"GAIL_TAR_BiLSTM_H_200_dS_10_\"\n",
    "elif attackScheme == \"BC\":\n",
    "    fileName_prefix = \"input_TAR_BiLSTM_H_200_dS_10_\"\n",
    "    fileName_prefix_attack = \"BC_TAR_BiLSTM_H_200_dS_10_\"\n",
    "else:\n",
    "    fileName_prefix = \"xx_\"\n",
    "\n",
    "lenList = []\n",
    "if dataType == \"JAR\":\n",
    "    for actIdx, activity in enumerate(activities):\n",
    "        xxLoadNP = np.load(dataPath + \"xx_\" + activity + \".npy\", allow_pickle=True)\n",
    "        for dataInd, data in enumerate(xxLoadNP):\n",
    "            dataDict[activity]['input'].append(data)\n",
    "            dataDict[activity]['label'].append(np.argwhere(np.array(activities) == activity)[0][0])\n",
    "\n",
    "        print(activity, len(dataDict[activity]['input']))\n",
    "\n",
    "elif dataType == \"TAR\":\n",
    "    for actIdx, activity in enumerate(activities):\n",
    "        longestLen = 0\n",
    "        shortestLen = 10000\n",
    "\n",
    "        xxLoadNP = np.load(dataPath + \"xx_\" + activity + \".npy\", allow_pickle=True)\n",
    "        if attackScheme == \"GAIL\" or attackScheme == \"BC\":\n",
    "            GAILLoadNP = np.load(dataPath + fileName_prefix_attack + activity + \".npy\", allow_pickle=True)\n",
    "            for dataInd, (data, dataGAIL) in enumerate(zip(xxLoadNP, GAILLoadNP)):\n",
    "                if data.shape[0] > longestLen:\n",
    "                    longestLen = data.shape[0]\n",
    "                if data.shape[0] < shortestLen:\n",
    "                    shortestLen = data.shape[0]\n",
    "                # print(LA.norm(data), LA.norm(dataGAIL*10))\n",
    "                dataDict[activity]['input'].append((data + dataGAIL * noiseAmpRatio * 10))\n",
    "        else:\n",
    "            for dataInd, data in enumerate(xxLoadNP):\n",
    "                # print(data.shape)\n",
    "                if data.shape[0] > longestLen:\n",
    "                    longestLen = data.shape[0]\n",
    "                if data.shape[0] < shortestLen:\n",
    "                    shortestLen = data.shape[0]\n",
    "                dataDict[activity]['input'].append(data)\n",
    "        lenList.append(LA.norm(torch.Tensor(data)))\n",
    "        dataDict[activity]['label'] = actIdx*torch.ones(len(dataDict[activity]['input']), dtype=int, device=device)\n",
    "\n",
    "        print(activity, len(dataDict[activity]['input']), len(dataDict[activity]['label']), shortestLen, longestLen)"
   ]
  },
  {
   "cell_type": "markdown",
   "metadata": {},
   "source": [
    "## Create train/test torch dataset"
   ]
  },
  {
   "cell_type": "code",
   "execution_count": 4,
   "metadata": {},
   "outputs": [
    {
     "name": "stdout",
     "output_type": "stream",
     "text": [
      "bed 40 39 79\n",
      "fall 40 39 79\n",
      "run 40 39 80\n",
      "sitdown 40 39 80\n",
      "standup 40 39 79\n",
      "walk 40 39 80\n",
      "# of tr data: 240 # of ts data: 234\n"
     ]
    }
   ],
   "source": [
    "if dataWin:\n",
    "    batchSize = 200\n",
    "else:\n",
    "    batchSize = 1\n",
    "trData = list()\n",
    "tsData = list()\n",
    "\n",
    "random.seed(1)\n",
    "for actIndex, activity in enumerate(activities):\n",
    "    dataset = CSIDataset(dataDict[activity],\\\n",
    "                        device,\\\n",
    "                        normalize=True,\\\n",
    "                        nSubC=nSubC,\\\n",
    "                        nRX=nRX,\\\n",
    "                        padLen=padLen)\n",
    "    # nTrData = np.floor(len(dataset)*0.01).astype(int)\n",
    "    # nTsData = np.floor(len(dataset)).astype(int) - nTrData\n",
    "\n",
    "    if dataType == \"JAR\":\n",
    "        padLen = 0\n",
    "        if actIndex == 0:\n",
    "            surroTsList = [512, 1, 2, 514, 4, 6, 7, 8, 519, 520, 523, 524, 13, 525, 15, 527, 17, 18, 530, 20, 21,\\\n",
    "                        22, 533, 534, 535, 538, 28, 541, 30, 31, 32, 33, 547, 36, 37, 38, 39, 40, 548, 42, 549,\\\n",
    "                        551, 553, 554, 47, 48, 49, 556, 51, 52, 53, 559, 562, 56, 57, 563, 564, 60, 61, 62, 63,\\\n",
    "                        567, 65, 570, 67, 68, 69, 575, 71, 72, 583, 584, 75, 585, 77, 588, 79, 80, 81, 82, 83, 589,\\\n",
    "                        85, 86, 590, 88, 592, 594, 91, 92, 93, 94, 95, 96, 99, 100, 102, 107, 109, 111, 112, 113, 116,\\\n",
    "                        118, 124, 126, 128, 130, 133, 135, 137, 138, 140, 141, 146, 147, 150, 153, 154, 155, 156, 161,\\\n",
    "                        163, 166, 167, 172, 173, 177, 178, 181, 182, 186, 187, 188, 190, 198, 199, 202, 203, 207, 208,\\\n",
    "                        211, 212, 213, 214, 218, 220, 221, 223, 225, 226, 229, 230, 234, 235, 238, 239, 240, 241, 247,\\\n",
    "                        252, 254, 255, 256, 257, 258, 259, 261, 262, 267, 270, 273, 274, 276, 277, 278, 279, 281, 282,\\\n",
    "                        285, 287, 289, 291, 292, 293, 296, 297, 299, 301, 302, 303, 304, 309, 571, 315, 317, 572, 321,\\\n",
    "                        322, 331, 336, 337, 339, 341, 344, 345, 347, 348, 350, 351, 353, 355, 356, 358, 360, 363, 369,\\\n",
    "                        371, 373, 374, 375, 376, 377, 378, 379, 381, 388, 392, 394, 395, 398, 403, 404, 406, 407, 409,\\\n",
    "                        410, 411, 412, 414, 415, 591, 420, 421, 422, 423, 424, 426, 427, 431, 434, 435, 436, 437, 438,\\\n",
    "                        439, 440, 441, 447, 449, 451, 453, 454, 455, 599, 458, 459, 460, 461, 462, 463, 464, 465, 466,\\\n",
    "                        467, 470, 471, 472, 473, 474, 475, 477, 478, 479, 481, 482, 485, 487, 488, 490, 491, 494, 496, 500, 501, 502, 503, 504, 505, 506]\n",
    "            if surro:\n",
    "                tsDataList = surroTsList\n",
    "                trDataList = list(set(range(len(dataset))) - set(tsDataList))\n",
    "            else:\n",
    "                trDataList = surroTsList\n",
    "                tsDataList = list(set(range(len(dataset))) - set(trDataList))\n",
    "\n",
    "    elif dataType == \"TAR\":\n",
    "        if dataWin:\n",
    "            trDataList = random.sample(range(len(dataset)), int(0.5*len(dataset)))\n",
    "            tsDataList = list(set(range(len(dataset))) - set(trDataList))\n",
    "        else:\n",
    "            if actIndex == 0:\n",
    "                surroTrList = [0, 1, 3, 4, 7, 10, 11, 13, 14, 15, 21, 22, 24, 27, 28, 29, 30, 32, 39, 40,\\\n",
    "                            41, 42, 43, 46, 49, 52, 53, 55, 59, 60, 61, 62, 63, 67, 68, 69, 70, 73, 76, 78]\n",
    "                if surro:\n",
    "                    trDataList = surroTrList\n",
    "                    tsDataList = list(set(range(len(dataset))) - set(trDataList))\n",
    "                else:\n",
    "                    tsDataList = surroTrList\n",
    "                    trDataList = list(set(range(len(dataset))) - set(tsDataList))\n",
    "\n",
    "    trData.append(torch.utils.data.Subset(dataset, trDataList))\n",
    "    tsData.append(torch.utils.data.Subset(dataset, tsDataList))\n",
    "    print(activity, len(trDataList), len(tsDataList), len(dataset))\n",
    "\n",
    "trDataset = torch.utils.data.ConcatDataset(trData) # concatenating dataset lists\n",
    "tsDataset = torch.utils.data.ConcatDataset(tsData)\n",
    "\n",
    "if dataWin:\n",
    "    trLoader = DataLoader(trDataset, batch_size=batchSize, shuffle=False)\n",
    "    tsLoader = DataLoader(tsDataset, batch_size=batchSize, shuffle=False)\n",
    "\n",
    "else:\n",
    "    trLoader = DataLoader(trDataset, batch_size=batchSize, shuffle=False, collate_fn=collate_fn)\n",
    "    tsLoader = DataLoader(tsDataset, batch_size=batchSize, shuffle=False, collate_fn=collate_fn)\n",
    "print(\"# of tr data:\", len(trDataset), \"# of ts data:\", len(tsDataset))"
   ]
  },
  {
   "cell_type": "markdown",
   "metadata": {},
   "source": [
    "## Test/Confusion matrix"
   ]
  },
  {
   "cell_type": "code",
   "execution_count": 17,
   "metadata": {},
   "outputs": [
    {
     "name": "stdout",
     "output_type": "stream",
     "text": [
      "Target: TAR_target_BiLSTM_H_200_dS_2_win\n",
      "Surro: TAR_surro_BiLSTM_H_200_dS_10\n"
     ]
    },
    {
     "name": "stderr",
     "output_type": "stream",
     "text": [
      "/home/byk004/24-RT_adv_HAR/utilities.py:103: UserWarning: To copy construct from a tensor, it is recommended to use sourceTensor.clone().detach() or sourceTensor.clone().detach().requires_grad_(True), rather than torch.tensor(sourceTensor).\n",
      "  label = torch.tensor(self.labels[idx], device=self.device).long()\n",
      "/home/byk004/24-RT_adv_HAR/utilities.py:18: UserWarning: To copy construct from a tensor, it is recommended to use sourceTensor.clone().detach() or sourceTensor.clone().detach().requires_grad_(True), rather than torch.tensor(sourceTensor).\n",
      "  inputs_padded = pad_sequence([torch.tensor(seq) for seq in inputs],\n"
     ]
    },
    {
     "data": {
      "text/plain": [
       "[Text(0, 0, 'Lie down'),\n",
       " Text(0, 1, 'Fall'),\n",
       " Text(0, 2, 'Run'),\n",
       " Text(0, 3, 'Sit down'),\n",
       " Text(0, 4, 'Stand up'),\n",
       " Text(0, 5, 'Walk')]"
      ]
     },
     "execution_count": 17,
     "metadata": {},
     "output_type": "execute_result"
    },
    {
     "data": {
      "image/png": "[encoded data removed]",
      "text/plain": [
       "<Figure size 600x600 with 2 Axes>"
      ]
     },
     "metadata": {},
     "output_type": "display_data"
    }
   ],
   "source": [
    "nLayer = 1\n",
    "dSampTarget = 2\n",
    "biDirTarget = True\n",
    "nHiddenTarget = 200\n",
    "dataWinTarget = True\n",
    "\n",
    "dSampSurro = 10\n",
    "biDirSurro = True\n",
    "nHiddenSurro = 200\n",
    "dataWinSurro = False\n",
    "\n",
    "if biDirTarget:\n",
    "    LSTMNameTarget = \"BiLSTM\"\n",
    "else:\n",
    "    LSTMNameTarget = \"LSTM\"\n",
    "if biDirSurro:\n",
    "    LSTMNameSurro = \"BiLSTM\"\n",
    "else:\n",
    "    LSTMNameSurro = \"LSTM\"\n",
    "\n",
    "\n",
    "modelFileNameTarget = dataType + '_target_' + LSTMNameTarget +\\\n",
    "    '_H_' + str(nHiddenTarget) + \"_dS_\" + str(dSampTarget)\n",
    "if dataWinTarget:\n",
    "    modelFileNameTarget = modelFileNameTarget + \"_win\"\n",
    "\n",
    "modelFileNameSurro = dataType + '_surro_' + LSTMNameSurro +\\\n",
    "    '_H_' + str(nHiddenSurro) + \"_dS_\" + str(dSampSurro)\n",
    "if dataWinSurro:\n",
    "    modelFileNameSurro = modelFileNameSurro + \"_win\"\n",
    "\n",
    "HARNetTargetSavePath = './savedModels/selected/' + modelFileNameTarget + \".cpkt\"\n",
    "HARNetSurroSavePath = './savedModels/selected/' + modelFileNameSurro + \".cpkt\"\n",
    "\n",
    "print('Target:', modelFileNameTarget)\n",
    "print('Surro:', modelFileNameSurro)\n",
    "if dataWinTarget:\n",
    "    HARNetTarget = LSTMNet(nClasses=len(activities),\\\n",
    "                    input_size=nSubC*nRX,\\\n",
    "                    bidirectional=biDirTarget,\\\n",
    "                    hidden_size=nHiddenTarget,\\\n",
    "                    num_layers=1,\\\n",
    "                    seq_length=seqLen,\\\n",
    "                    device=device)\n",
    "else:\n",
    "    HARNetTarget = VariableLSTMNet(nClasses=len(activities),\\\n",
    "                    input_size=nSubC*nRX,\\\n",
    "                    bidirectional=biDirSurro,\\\n",
    "                    hidden_size=nHiddenSurro,\\\n",
    "                    num_layers=1,\\\n",
    "                    device=device)\n",
    "HARNetSurro = VariableLSTMNet(nClasses=len(activities),\\\n",
    "                input_size=nSubC*nRX,\\\n",
    "                bidirectional=biDirSurro,\\\n",
    "                hidden_size=nHiddenSurro,\\\n",
    "                num_layers=1,\\\n",
    "                device=device)\n",
    "\n",
    "HARNetTarget.load_state_dict(torch.load(HARNetTargetSavePath))\n",
    "HARNetTarget.to(device)\n",
    "HARNetTarget.eval()\n",
    "\n",
    "HARNetSurro.load_state_dict(torch.load(HARNetSurroSavePath))\n",
    "HARNetSurro.to(device)\n",
    "HARNetSurro.eval()\n",
    "\n",
    "noiseAmpRatio = .00001\n",
    "pred, target = getPreds(tsLoader, HARNetTarget, HARNetSurro, dSampTarget, dSampSurro,\\\n",
    "                variableLen, noiseAmpRatio=noiseAmpRatio, slideLen=slideLen,\\\n",
    "                seqLen=seqLen, noiseType='random', trLoader=trLoader)\n",
    "cm = confusion_matrix(target,pred,normalize ='true')\n",
    "for i in range(len(activities)):\n",
    "    for j in range(len(activities)):\n",
    "        cm[i, j] = round(cm[i, j], 2)\n",
    "\n",
    "if dataType == 'JAR':\n",
    "    activityLabel = ['Sit still', 'Fall down', 'Lie down', 'Stand still', 'Walk', 'Turn', 'Stand', 'Sit']\n",
    "\n",
    "elif dataType == 'TAR':\n",
    "    activityLabel = ['Lie down', 'Fall', 'Run', 'Sit down', 'Stand up', 'Walk']\n",
    "    # activities = ['fall', 'pickup', 'run', 'sitdown', 'standup', 'walk']\n",
    "\n",
    "disp = ConfusionMatrixDisplay(confusion_matrix=cm)\n",
    "fig, ax = plt.subplots(figsize=(4,4), dpi =150)\n",
    "disp.plot(ax=ax)\n",
    "\n",
    "ax.set_xticklabels(activityLabel, rotation=45, ha='right')\n",
    "ax.set_yticklabels(activityLabel)"
   ]
  },
  {
   "cell_type": "markdown",
   "metadata": {},
   "source": [
    "## Test with white-box/black-box/Universal FGM"
   ]
  },
  {
   "cell_type": "code",
   "execution_count": 8,
   "metadata": {},
   "outputs": [
    {
     "name": "stdout",
     "output_type": "stream",
     "text": [
      "NoiseAmpRatio: 1e-06, Test Acc.: 93.3%\n",
      "NoiseAmpRatio: 0.001, Test Acc.: 93.3%\n",
      "NoiseAmpRatio: 0.002, Test Acc.: 93.3%\n",
      "NoiseAmpRatio: 0.005, Test Acc.: 93.3%\n",
      "NoiseAmpRatio: 0.01, Test Acc.: 93.3%\n",
      "NoiseAmpRatio: 0.02, Test Acc.: 92.5%\n",
      "NoiseAmpRatio: 0.05, Test Acc.: 93.3%\n",
      "NoiseAmpRatio: 0.1, Test Acc.: 93.8%\n",
      "NoiseAmpRatio: 0.2, Test Acc.: 93.8%\n",
      "NoiseAmpRatio: 0.5, Test Acc.: 92.1%\n",
      "NoiseAmpRatio: 1, Test Acc.: 77.9%\n",
      "NoiseAmpRatio: 2, Test Acc.: 35.4%\n",
      "NoiseAmpRatio: 5, Test Acc.: 17.1%\n",
      "NoiseAmpRatio: 10, Test Acc.: 16.2%\n"
     ]
    }
   ],
   "source": [
    "# noiseAmpRatioList = [0]\n",
    "noiseAmpRatioList = [1e-6, 1e-3, 2e-3, 5e-3, 1e-2, 2e-2, 5e-2, 0.1, 0.2, 0.5, 1, 2, 5, 10]\n",
    "\n",
    "for noiseAmpRatio in noiseAmpRatioList: \n",
    "    accTest = getAcc(tsLoader,\\\n",
    "                    HARNetTarget,\\\n",
    "                    HARNetSurro,\\\n",
    "                    dSampTarget,\\\n",
    "                    dSampSurro,\\\n",
    "                    variableLen=variableLen,\\\n",
    "                    noiseAmpRatio=noiseAmpRatio,\\\n",
    "                    noiseType='random')\n",
    "    # accTest = getAcc(tsLoader, padLen, HARNet, variableLen=True)\n",
    "    print('NoiseAmpRatio: {0}, Test Acc.: {1:.1f}%'.format(noiseAmpRatio, 100*accTest))"
   ]
  }
 ],
 "metadata": {
  "kernelspec": {
   "display_name": "wifiHAR",
   "language": "python",
   "name": "python3"
  },
  "language_info": {
   "codemirror_mode": {
    "name": "ipython",
    "version": 3
   },
   "file_extension": ".py",
   "mimetype": "text/x-python",
   "name": "python",
   "nbconvert_exporter": "python",
   "pygments_lexer": "ipython3",
   "version": "3.10.13"
  },
  "orig_nbformat": 4
 },
 "nbformat": 4,
 "nbformat_minor": 2
}
